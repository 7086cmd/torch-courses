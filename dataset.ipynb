{
 "cells": [
  {
   "metadata": {},
   "cell_type": "markdown",
   "source": [
    "# Course 4: The `Dataset` Class for Loading Data\n",
    "\n",
    "In this notebook, we are taking `Kaggle`'s some datasets (e.g. `EMNIST`, etc.), to display the usage of `pandas`, `numpy`, etc. and transform them into `torch.utils.data.Dataset` class, then use `DataLoader` to load the data.\n",
    "\n",
    "The `Dataset` class is a class that loads data from a source and returns it in a consistent format. This class is used to provide a consistent way to load data from a variety of sources, such as files, databases, and web services. The `Dataset` class is a subclass of the `torch.utils.data.Dataset` class, which is a class provided by the `PyTorch` library for loading data into a neural network.\n",
    "\n",
    "`DataLoader` is a class that loads data from a `Dataset` object and returns it in batches. The `DataLoader` class is a subclass of the `torch.utils.data.DataLoader` class, which is a class provided by the `PyTorch` library for loading data into a neural network in batches.\n",
    "\n",
    "Above them, the `random_split` function is also a great tool for splitting the dataset into training and validation sets.\n",
    "\n",
    "Actually, there are 3 parts in a hole dataset, including the `Training`, `Evaluation`, and `Testing` parts. The `Training` part is used to train the model, the `Evaluation` part is used to evaluate the model, and the `Testing` part is used to test the model, especially for the unseen data.\n",
    "\n",
    "In this notebook, we will take the `EMNIST` dataset as an example to show how to load the data into the `Dataset` class, and then use the `DataLoader` to load the data in batches."
   ],
   "id": "23c372fd12db3352"
  },
  {
   "metadata": {},
   "cell_type": "markdown",
   "source": [
    "## Download the Dataset\n",
    "\n",
    "You can log in [Kaggle](https://www.kaggle.com/) and download the dataset, then upload it to the current directory. Here, we take the [`EMNIST`](https://www.kaggle.com/datasets/crawford/emnist/data) dataset as an example. The size is 1.2 GiB. You can download it and upload it to the current directory. And the article of the dataset is uploaded in [arXiv](https://arxiv.org/pdf/1702.05373v1).\n",
    "\n",
    "We decompress the dataset into `data/EMNIST`, which contains a `.ubyte` file, and a `.csv` file with every row representing an image.\n",
    "\n",
    "Quote from the official website:\n",
    "\n",
    "> Format\n",
    "There are six different splits provided in this dataset and each are provided in two formats:\n",
    "> \n",
    "> 1. Binary (see emnist_source_files.zip)\n",
    "> 2. CSV (combined labels and images)\n",
    ">    - Each row is a separate image\n",
    ">    - 785 columns\n",
    ">    - First column = class_label (see mappings.txt for class label definitions)\n",
    ">    - Each column after represents one pixel value (784 total for a 28 x 28 image)\n",
    "\n"
   ],
   "id": "25f85f239871651a"
  },
  {
   "metadata": {},
   "cell_type": "markdown",
   "source": [
    "## Load the Dataset\n",
    "\n",
    "Through `pandas`, we can load the `CSV` format into a `DataFrame` object. Then we can transform the `DataFrame` object into a `Dataset` object. Finally, we can use the `DataLoader` to load the data in batches.\n",
    "\n",
    "Here, we take the `EMNIST` dataset as an example to show how to load the data into the `Dataset` class, and then use the `DataLoader` to load the data in batches.\n",
    "\n",
    "First, we need to install these packages:"
   ],
   "id": "8ae4bf23f8d2f75d"
  },
  {
   "metadata": {},
   "cell_type": "code",
   "outputs": [],
   "execution_count": null,
   "source": "!pip install pandas numpy",
   "id": "f827cd2ec8c4ed82"
  },
  {
   "metadata": {},
   "cell_type": "markdown",
   "source": [
    "Then following what we learned during the IT course, we can easily load the data into the `Dataset`.\n",
    "\n",
    "What should we know: the first column is the label, and the rest columns are the pixels of the image.\n",
    "\n",
    "The first label is in the range of `[1, 26]`, which represents the 26 letters in the alphabet. The first 26 labels are the letters from `A` to `Z`, including the upper case and lower case."
   ],
   "id": "e4b8aa54798e4159"
  },
  {
   "metadata": {
    "ExecuteTime": {
     "end_time": "2024-07-11T09:47:34.052853Z",
     "start_time": "2024-07-11T09:47:32.073916Z"
    }
   },
   "cell_type": "code",
   "source": [
    "import pandas as pd\n",
    "import torch\n",
    "from torch.utils.data import Dataset, DataLoader\n",
    "from torchvision import transforms\n",
    "\n",
    "device = torch.device('mps')\n",
    "\n",
    "# Define the transformations\n",
    "transform = transforms.Compose([\n",
    "    transforms.ToPILImage(),                        # Convert the tensor to a PIL Image\n",
    "    transforms.RandomRotation(degrees=(-90, -90)),  # Rotate 90 degrees clockwise\n",
    "    transforms.RandomHorizontalFlip(p=1.0),         # Flip left-to-right\n",
    "    transforms.ToTensor()                           # Convert the PIL Image to a tensor\n",
    "])\n",
    "\n",
    "class EMNISTDataset(Dataset):\n",
    "    def __init__(self, target: str):\n",
    "        self.data = pd.read_csv(target)\n",
    "        self.labels = self.data.iloc[:, 0]\n",
    "        self.images = self.data.iloc[:, 1:]\n",
    "    \n",
    "    def __len__(self):\n",
    "        return len(self.data)\n",
    "    \n",
    "    def __getitem__(self, idx):\n",
    "        image = self.images.iloc[idx].values\n",
    "        label = self.labels.iloc[idx]\n",
    "\n",
    "        image = torch.tensor(image, dtype=torch.float32).to(device)\n",
    "        label = torch.tensor(label, dtype=torch.long).to(device)\n",
    "        \n",
    "        # Rotate clockwise 90 degrees and horizontal flip\n",
    "        image = image.view(28, 28)\n",
    "        image = transform(image)\n",
    "\n",
    "        return image, label\n",
    "\n",
    "# Load the dataset\n",
    "dataset = EMNISTDataset('data/EMNIST/emnist-letters-train.csv')\n",
    "# Show an example of figure\n",
    "import matplotlib.pyplot as plt\n",
    "from random import randint\n",
    "\n",
    "image, label = dataset[randint(0, len(dataset))]\n",
    "image = image.view(28, 28)\n",
    "plt.imshow(image.cpu().numpy(), cmap='gray')\n",
    "plt.title(f'Label: {chr(label + 64)}')\n",
    "plt.show()\n"
   ],
   "id": "8baa1ded167da9a3",
   "outputs": [
    {
     "data": {
      "text/plain": [
       "<Figure size 640x480 with 1 Axes>"
      ],
      "image/png": "[encoded data removed]"
     },
     "metadata": {},
     "output_type": "display_data"
    }
   ],
   "execution_count": 4
  },
  {
   "metadata": {},
   "cell_type": "markdown",
   "source": [
    "## Split the Dataset\n",
    "\n",
    "We can split the dataset into 7-3. 70% for training and 30% for validation.\n",
    "\n",
    "We can use the `random_split` function to split the dataset into training and validation sets. The `random_split` function takes the dataset and the lengths of the training and validation sets as arguments and returns the training and validation sets."
   ],
   "id": "c701bf29f1b64c05"
  },
  {
   "metadata": {
    "ExecuteTime": {
     "end_time": "2024-07-07T06:35:34.920603Z",
     "start_time": "2024-07-07T06:35:34.912762Z"
    }
   },
   "cell_type": "code",
   "source": [
    "from torch.utils.data import random_split\n",
    "\n",
    "train_size = int(0.7 * len(dataset))\n",
    "val_size = len(dataset) - train_size\n",
    "\n",
    "train_dataset, val_dataset = random_split(dataset, [train_size, val_size])\n",
    "\n",
    "print(f'Training dataset size: {len(train_dataset)}')\n",
    "\n",
    "batch_size = 64\n",
    "train_loader = DataLoader(train_dataset, batch_size=batch_size, shuffle=True)\n",
    "val_loader = DataLoader(val_dataset, batch_size=batch_size, shuffle=False)"
   ],
   "id": "79f656547506162b",
   "outputs": [
    {
     "name": "stdout",
     "output_type": "stream",
     "text": [
      "Training dataset size: 62159\n"
     ]
    }
   ],
   "execution_count": 32
  },
  {
   "metadata": {},
   "cell_type": "markdown",
   "source": "## Use ResNet-152 for Training",
   "id": "96c5665d4bf3e22"
  },
  {
   "metadata": {
    "ExecuteTime": {
     "end_time": "2024-07-07T06:45:56.401438Z",
     "start_time": "2024-07-07T06:40:45.458026Z"
    }
   },
   "cell_type": "code",
   "source": [
    "import torch.nn as nn\n",
    "import torch.optim as optim\n",
    "from torchvision.models.resnet import resnet152\n",
    "from torchvision.models.resnet import ResNet152_Weights\n",
    "from tqdm import tqdm\n",
    "\n",
    "# Define the model\n",
    "model = resnet152(weights = ResNet152_Weights).to(device)\n",
    "model.conv1 = nn.Conv2d(1, 64, kernel_size=(7, 7), stride=(2, 2), padding=(3, 3), bias=False).to(device)\n",
    "model.fc = nn.Linear(2048, 26).to(device)\n",
    "\n",
    "# Define the loss function\n",
    "criterion = nn.CrossEntropyLoss()\n",
    "optimizer = optim.Adam(model.parameters(), lr=0.001)\n",
    "\n",
    "# Training the model\n",
    "epochs = 5\n",
    "\n",
    "for epoch in range(epochs):\n",
    "    model.train()\n",
    "    running_loss = 0.0\n",
    "    for images, labels in tqdm(train_loader):\n",
    "        images, labels = images.to(device), labels.to(device)\n",
    "        \n",
    "        optimizer.zero_grad()\n",
    "        outputs = model(images)\n",
    "        loss = criterion(outputs, labels)\n",
    "        loss.backward()\n",
    "        optimizer.step()\n",
    "        running_loss += loss.item()\n",
    "    print(f'Epoch {epoch + 1}, Loss: {running_loss / len(train_loader)}')"
   ],
   "id": "2daf9ac089111593",
   "outputs": [
    {
     "name": "stderr",
     "output_type": "stream",
     "text": [
      " 85%|████████▍ | 825/972 [05:09<00:55,  2.66it/s]\n"
     ]
    },
    {
     "ename": "KeyboardInterrupt",
     "evalue": "",
     "output_type": "error",
     "traceback": [
      "\u001B[0;31m---------------------------------------------------------------------------\u001B[0m",
      "\u001B[0;31mKeyboardInterrupt\u001B[0m                         Traceback (most recent call last)",
      "Cell \u001B[0;32mIn[34], line 28\u001B[0m\n\u001B[1;32m     26\u001B[0m outputs \u001B[38;5;241m=\u001B[39m model(images)\n\u001B[1;32m     27\u001B[0m loss \u001B[38;5;241m=\u001B[39m criterion(outputs, labels)\n\u001B[0;32m---> 28\u001B[0m loss\u001B[38;5;241m.\u001B[39mbackward()\n\u001B[1;32m     29\u001B[0m optimizer\u001B[38;5;241m.\u001B[39mstep()\n\u001B[1;32m     30\u001B[0m running_loss \u001B[38;5;241m+\u001B[39m\u001B[38;5;241m=\u001B[39m loss\u001B[38;5;241m.\u001B[39mitem()\n",
      "File \u001B[0;32m/opt/anaconda3/envs/training/lib/python3.11/site-packages/torch/_tensor.py:525\u001B[0m, in \u001B[0;36mTensor.backward\u001B[0;34m(self, gradient, retain_graph, create_graph, inputs)\u001B[0m\n\u001B[1;32m    515\u001B[0m \u001B[38;5;28;01mif\u001B[39;00m has_torch_function_unary(\u001B[38;5;28mself\u001B[39m):\n\u001B[1;32m    516\u001B[0m     \u001B[38;5;28;01mreturn\u001B[39;00m handle_torch_function(\n\u001B[1;32m    517\u001B[0m         Tensor\u001B[38;5;241m.\u001B[39mbackward,\n\u001B[1;32m    518\u001B[0m         (\u001B[38;5;28mself\u001B[39m,),\n\u001B[0;32m   (...)\u001B[0m\n\u001B[1;32m    523\u001B[0m         inputs\u001B[38;5;241m=\u001B[39minputs,\n\u001B[1;32m    524\u001B[0m     )\n\u001B[0;32m--> 525\u001B[0m torch\u001B[38;5;241m.\u001B[39mautograd\u001B[38;5;241m.\u001B[39mbackward(\n\u001B[1;32m    526\u001B[0m     \u001B[38;5;28mself\u001B[39m, gradient, retain_graph, create_graph, inputs\u001B[38;5;241m=\u001B[39minputs\n\u001B[1;32m    527\u001B[0m )\n",
      "File \u001B[0;32m/opt/anaconda3/envs/training/lib/python3.11/site-packages/torch/autograd/__init__.py:267\u001B[0m, in \u001B[0;36mbackward\u001B[0;34m(tensors, grad_tensors, retain_graph, create_graph, grad_variables, inputs)\u001B[0m\n\u001B[1;32m    262\u001B[0m     retain_graph \u001B[38;5;241m=\u001B[39m create_graph\n\u001B[1;32m    264\u001B[0m \u001B[38;5;66;03m# The reason we repeat the same comment below is that\u001B[39;00m\n\u001B[1;32m    265\u001B[0m \u001B[38;5;66;03m# some Python versions print out the first line of a multi-line function\u001B[39;00m\n\u001B[1;32m    266\u001B[0m \u001B[38;5;66;03m# calls in the traceback and some print out the last line\u001B[39;00m\n\u001B[0;32m--> 267\u001B[0m _engine_run_backward(\n\u001B[1;32m    268\u001B[0m     tensors,\n\u001B[1;32m    269\u001B[0m     grad_tensors_,\n\u001B[1;32m    270\u001B[0m     retain_graph,\n\u001B[1;32m    271\u001B[0m     create_graph,\n\u001B[1;32m    272\u001B[0m     inputs,\n\u001B[1;32m    273\u001B[0m     allow_unreachable\u001B[38;5;241m=\u001B[39m\u001B[38;5;28;01mTrue\u001B[39;00m,\n\u001B[1;32m    274\u001B[0m     accumulate_grad\u001B[38;5;241m=\u001B[39m\u001B[38;5;28;01mTrue\u001B[39;00m,\n\u001B[1;32m    275\u001B[0m )\n",
      "File \u001B[0;32m/opt/anaconda3/envs/training/lib/python3.11/site-packages/torch/autograd/graph.py:744\u001B[0m, in \u001B[0;36m_engine_run_backward\u001B[0;34m(t_outputs, *args, **kwargs)\u001B[0m\n\u001B[1;32m    742\u001B[0m     unregister_hooks \u001B[38;5;241m=\u001B[39m _register_logging_hooks_on_whole_graph(t_outputs)\n\u001B[1;32m    743\u001B[0m \u001B[38;5;28;01mtry\u001B[39;00m:\n\u001B[0;32m--> 744\u001B[0m     \u001B[38;5;28;01mreturn\u001B[39;00m Variable\u001B[38;5;241m.\u001B[39m_execution_engine\u001B[38;5;241m.\u001B[39mrun_backward(  \u001B[38;5;66;03m# Calls into the C++ engine to run the backward pass\u001B[39;00m\n\u001B[1;32m    745\u001B[0m         t_outputs, \u001B[38;5;241m*\u001B[39margs, \u001B[38;5;241m*\u001B[39m\u001B[38;5;241m*\u001B[39mkwargs\n\u001B[1;32m    746\u001B[0m     )  \u001B[38;5;66;03m# Calls into the C++ engine to run the backward pass\u001B[39;00m\n\u001B[1;32m    747\u001B[0m \u001B[38;5;28;01mfinally\u001B[39;00m:\n\u001B[1;32m    748\u001B[0m     \u001B[38;5;28;01mif\u001B[39;00m attach_logging_hooks:\n",
      "\u001B[0;31mKeyboardInterrupt\u001B[0m: "
     ]
    }
   ],
   "execution_count": 34
  },
  {
   "metadata": {},
   "cell_type": "code",
   "outputs": [],
   "execution_count": null,
   "source": "",
   "id": "b92959e0bfcd3c17"
  }
 ],
 "metadata": {
  "kernelspec": {
   "display_name": "Python 3",
   "language": "python",
   "name": "python3"
  },
  "language_info": {
   "codemirror_mode": {
    "name": "ipython",
    "version": 2
   },
   "file_extension": ".py",
   "mimetype": "text/x-python",
   "name": "python",
   "nbconvert_exporter": "python",
   "pygments_lexer": "ipython2",
   "version": "2.7.6"
  }
 },
 "nbformat": 4,
 "nbformat_minor": 5
}
