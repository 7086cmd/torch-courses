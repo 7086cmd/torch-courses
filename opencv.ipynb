{
 "cells": [
  {
   "metadata": {},
   "cell_type": "markdown",
   "source": [
    "# Course 5: OpenCV Basics\n",
    "\n",
    "The OpenCV is a library of programming functions mainly aimed at real-time computer vision. Originally developed by Intel, it was later supported by Willow Garage then Itseez (which was later acquired by Intel). The library is cross-platform and free for use under the open-source BSD license.\n",
    "\n",
    "OpenCV supports the deep learning frameworks TensorFlow, Torch/PyTorch, and Caffe.\n",
    "\n",
    "OpenCV is written in C++ and its primary interface is in C++. It has a C interface, and it also has interfaces for Python, Java, and MATLAB/Octave.\n",
    "\n",
    "In this course, we will get started with OpenCV including these parts:\n",
    "\n",
    "- Basic concepts, including the BGR color space, image channels, and image types;\n",
    "- Reading, displaying, and saving images;\n",
    "- Video capture and processing;\n",
    "- Drawing shapes and text on images;\n",
    "- Image transformations, including scaling, rotating, and flipping;\n",
    "- Image arithmetic, including addition, subtraction, and bitwise operations;\n",
    "- Image thresholding;\n",
    "- etc.\n",
    "\n",
    "In Python, OpenCV requires numpy as a dependency. So, we need to install numpy first."
   ],
   "id": "9a4e568de7982cdb"
  },
  {
   "metadata": {},
   "cell_type": "code",
   "outputs": [],
   "execution_count": null,
   "source": [
    "!pip install numpy opencv-python\n",
    "# If you want to enable full OpenCV features, you can install opencv-contrib-python instead of opencv-python.\n",
    "# !pip install numpy opencv-contrib-python"
   ],
   "id": "c4018dc403744445"
  },
  {
   "metadata": {},
   "cell_type": "markdown",
   "source": [
    "## Basic Concepts\n",
    "\n",
    "For default, OpenCV uses the BGR color space. The BGR color space is the reverse of the RGB color space. In the RGB color space, the color channels are red, green, and blue. In the BGR color space, the color channels are blue, green, and red.\n",
    "\n",
    "The BGR color space is similar to the RGB color space. The only difference is the order of the color channels. The BGR color space is used in OpenCV because it was popular when OpenCV was first developed.\n",
    "\n",
    "The BGR color space is used in OpenCV because it was popular when OpenCV was first developed.\n",
    "\n",
    "The HSV color space is another popular color space. The HSV color space is used in many image processing applications.\n",
    "\n",
    "![HSV Color Space](./figures/hsv.png)\n",
    "\n",
    "After the convert of the image, when you are displaying the image, it may be strange.\n"
   ],
   "id": "bb505ec1c0c1fad"
  },
  {
   "metadata": {},
   "cell_type": "markdown",
   "source": [
    "### Cameras and Images\n",
    "\n",
    "You can use `VideoCapture` to capture video from a camera. You can use `imread` to read an image from a file. You can use `imshow` to display an image. You can use `imwrite` to save an image to a file.\n",
    "\n",
    "First, we need to create an instance of `VideoCapture`. It requires `opencv-contrib-python` package."
   ],
   "id": "11a04ab2e0ac5fc5"
  },
  {
   "metadata": {
    "ExecuteTime": {
     "end_time": "2024-07-11T09:57:39.085168Z",
     "start_time": "2024-07-11T09:57:38.995526Z"
    }
   },
   "cell_type": "code",
   "source": [
    "import cv2\n",
    "\n",
    "camera = cv2.VideoCapture(0)"
   ],
   "id": "7e3b832150cfe3a5",
   "outputs": [],
   "execution_count": 10
  },
  {
   "metadata": {},
   "cell_type": "markdown",
   "source": [
    "### Display the image\n",
    "\n",
    "It is noticed that the camera will be occupied once the instance is created. So, you should drop the instance once you have full used."
   ],
   "id": "283b73fbe7a8e053"
  },
  {
   "metadata": {
    "ExecuteTime": {
     "end_time": "2024-07-11T09:59:08.485695Z",
     "start_time": "2024-07-11T09:57:40.696904Z"
    }
   },
   "cell_type": "code",
   "source": [
    "while True:\n",
    "    ref, frame = camera.read()\n",
    "    cv2.imshow('frame', frame)\n",
    "    if cv2.waitKey(1) & 0xFF == ord('q'):\n",
    "        del camera\n",
    "        break"
   ],
   "id": "8422cdb47990be03",
   "outputs": [],
   "execution_count": 11
  },
  {
   "metadata": {},
   "cell_type": "markdown",
   "source": [
    "### Save the image | Load the image\n",
    "\n",
    "You can use `imwrite` to save an image to a file. You can use `imread` to read an image from a file."
   ],
   "id": "449f00581b94035"
  },
  {
   "metadata": {
    "ExecuteTime": {
     "end_time": "2024-07-11T09:53:57.510595Z",
     "start_time": "2024-07-11T09:53:57.496163Z"
    }
   },
   "cell_type": "code",
   "source": [
    "cv2.imwrite('data/frame.jpg', frame)\n",
    "\n",
    "image = cv2.imread('data/frame.jpg')\n",
    "\n",
    "cv2.imshow('image', image)"
   ],
   "id": "3f7352a7e262d0ea",
   "outputs": [],
   "execution_count": 4
  },
  {
   "metadata": {},
   "cell_type": "markdown",
   "source": [
    "### Color Spaces\n",
    "\n",
    "Typically, we use Gray, BGR, and HSV in OpenCV.\n",
    "\n",
    "#### Gray\n",
    "\n",
    "The gray color space is a single-channel color space. The gray color space is used in many image processing applications. The gray color space is used in many image processing applications."
   ],
   "id": "c64a9e78b24cf0ad"
  },
  {
   "metadata": {
    "ExecuteTime": {
     "end_time": "2024-07-11T09:54:38.963154Z",
     "start_time": "2024-07-11T09:54:27.294099Z"
    }
   },
   "cell_type": "code",
   "source": [
    "gray = cv2.cvtColor(image, cv2.COLOR_BGR2GRAY)\n",
    "\n",
    "cv2.imshow('gray', gray)\n",
    "\n",
    "cv2.waitKey(0)\n",
    "\n",
    "hsv = cv2.cvtColor(image, cv2.COLOR_BGR2HSV)\n",
    "\n",
    "cv2.imshow('hsv', hsv)\n",
    "\n",
    "cv2.waitKey(0)\n",
    "\n",
    "cv2.destroyAllWindows()"
   ],
   "id": "ede554b738be7649",
   "outputs": [],
   "execution_count": 5
  },
  {
   "metadata": {},
   "cell_type": "markdown",
   "source": [
    "### Add Text or Rectangle\n",
    "\n",
    "You can use `putText` to add text to an image. It is often used in image processing applications.\n",
    "\n",
    "You can use `rectangle` to draw a rectangle on an image. It is often used in image processing applications."
   ],
   "id": "cdb446fd15f0b11b"
  },
  {
   "metadata": {
    "ExecuteTime": {
     "end_time": "2024-07-11T09:54:56.682730Z",
     "start_time": "2024-07-11T09:54:50.752708Z"
    }
   },
   "cell_type": "code",
   "source": [
    "with_text = image.copy()\n",
    "\n",
    "cv2.putText(with_text, 'Hello, OpenCV!', (10, 50), cv2.FONT_HERSHEY_SIMPLEX, 1, (255, 255, 255), 2)\n",
    "\n",
    "cv2.rectangle(with_text, (10, 50), (200, 100), (11, 45, 14), 2)\n",
    "\n",
    "cv2.imshow('with_text', with_text)\n",
    "\n",
    "cv2.waitKey(0)\n",
    "\n",
    "cv2.destroyAllWindows()"
   ],
   "id": "c48f13ae9968d0ad",
   "outputs": [],
   "execution_count": 6
  },
  {
   "metadata": {},
   "cell_type": "markdown",
   "source": [
    "### Image Transformations\n",
    "\n",
    "You can use `resize` to scale an image. You can use `rotate` to rotate an image. You can use `flip` to flip an image."
   ],
   "id": "b9ae18b5e15488d4"
  },
  {
   "metadata": {
    "ExecuteTime": {
     "end_time": "2024-07-11T09:55:18.098728Z",
     "start_time": "2024-07-11T09:55:05.250346Z"
    }
   },
   "cell_type": "code",
   "source": [
    "resized = cv2.resize(image, (200, 200))\n",
    "\n",
    "cv2.imshow('resized', resized)\n",
    "cv2.waitKey(0)\n",
    "\n",
    "rotated = cv2.rotate(image, cv2.ROTATE_90_CLOCKWISE)\n",
    "\n",
    "cv2.imshow('rotated', rotated)\n",
    "cv2.waitKey(0)\n",
    "\n",
    "flipped = cv2.flip(image, 1)\n",
    "\n",
    "cv2.imshow('flipped', flipped)\n",
    "cv2.waitKey(0)"
   ],
   "id": "c20aba9b9ffbdf78",
   "outputs": [
    {
     "data": {
      "text/plain": [
       "113"
      ]
     },
     "execution_count": 7,
     "metadata": {},
     "output_type": "execute_result"
    }
   ],
   "execution_count": 7
  },
  {
   "metadata": {},
   "cell_type": "markdown",
   "source": [
    "## Locate & Recognition\n",
    "\n",
    "Via `apriltags`, in automatic way, we can locate the tags in the image and recognize the tags.\n",
    "\n",
    "The `pupil-apriltags` is a Python library for detecting and identifying AprilTags. AprilTags are a type of fiducial marker that are designed to be easily detected by a computer vision system. It requires `Python` > 3.9.\n",
    "\n",
    "You can install it via `pip install pupil-apriltags`."
   ],
   "id": "dff9af25e5c58afe"
  },
  {
   "metadata": {
    "ExecuteTime": {
     "end_time": "2024-07-11T09:57:23.754901Z",
     "start_time": "2024-07-11T09:56:39.032293Z"
    }
   },
   "cell_type": "code",
   "source": [
    "!pip install pupil-apriltags\n",
    "\n",
    "import pupil_apriltags\n",
    "\n",
    "# del(camera)\n",
    "\n",
    "camera = cv2.VideoCapture(0)\n",
    "\n",
    "camera.set(cv2.CAP_PROP_FPS, 30)\n",
    "\n",
    "detector = pupil_apriltags.Detector(families='tag36h11')\n",
    "\n",
    "while True:\n",
    "    ref, frame = camera.read()\n",
    "    cv2.imshow('frame', frame)\n",
    "    \n",
    "    # Convert to grayscale\n",
    "    gray = cv2.cvtColor(frame, cv2.COLOR_BGR2GRAY)\n",
    "    \n",
    "    if not ref:\n",
    "        continue\n",
    "    \n",
    "    tags = detector.detect(gray)\n",
    "    \n",
    "    for tag in tags:\n",
    "        # Put a red rectangle around the tag in the image\n",
    "        # Extract the bounding box (corner points)\n",
    "        corners = tag.corners\n",
    "        pt1 = (int(corners[0][0]), int(corners[0][1]))\n",
    "        pt2 = (int(corners[1][0]), int(corners[1][1]))\n",
    "        pt3 = (int(corners[2][0]), int(corners[2][1]))\n",
    "        pt4 = (int(corners[3][0]), int(corners[3][1]))\n",
    "        \n",
    "        # Draw the bounding box\n",
    "        cv2.line(frame, pt1, pt2, (0, 255, 0), 2)\n",
    "        cv2.line(frame, pt2, pt3, (0, 255, 0), 2)\n",
    "        cv2.line(frame, pt3, pt4, (0, 255, 0), 2)\n",
    "        cv2.line(frame, pt4, pt1, (0, 255, 0), 2)\n",
    "        \n",
    "        # Optionally, put the tag ID near the rectangle\n",
    "        cv2.putText(frame, str(tag.tag_id), (pt1[0], pt1[1] - 10), cv2.FONT_HERSHEY_SIMPLEX, 0.5, (0, 255, 0), 2)\n",
    "    \n",
    "    cv2.imshow('frame', frame)\n",
    "    \n",
    "    if cv2.waitKey(1) & 0xFF == ord('q'):\n",
    "        del camera\n",
    "        break"
   ],
   "id": "1707330a61d03954",
   "outputs": [
    {
     "name": "stdout",
     "output_type": "stream",
     "text": [
      "Requirement already satisfied: pupil-apriltags in /opt/anaconda3/envs/training/lib/python3.11/site-packages (1.0.4.post10)\r\n",
      "Requirement already satisfied: numpy in /opt/anaconda3/envs/training/lib/python3.11/site-packages (from pupil-apriltags) (1.26.4)\r\n"
     ]
    }
   ],
   "execution_count": 9
  },
  {
   "metadata": {},
   "cell_type": "markdown",
   "source": [
    "### Calibration\n",
    "\n",
    "The `pupil-apriltags` library also provides a calibration tool that can be used to calibrate a camera using a checkerboard pattern. The calibration tool will generate a camera matrix and distortion coefficients that can be used to undistort images captured by the camera.\n",
    "\n",
    "You can use the calibration tool by running the following command in the terminal:"
   ],
   "id": "9f4c813701ea176f"
  }
 ],
 "metadata": {
  "kernelspec": {
   "display_name": "Python 3",
   "language": "python",
   "name": "python3"
  },
  "language_info": {
   "codemirror_mode": {
    "name": "ipython",
    "version": 2
   },
   "file_extension": ".py",
   "mimetype": "text/x-python",
   "name": "python",
   "nbconvert_exporter": "python",
   "pygments_lexer": "ipython2",
   "version": "2.7.6"
  }
 },
 "nbformat": 4,
 "nbformat_minor": 5
}
