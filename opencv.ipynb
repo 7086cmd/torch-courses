{
 "cells": [
  {
   "metadata": {},
   "cell_type": "markdown",
   "source": [
    "# Course 5: OpenCV Basics\n",
    "\n",
    "The OpenCV is a library of programming functions mainly aimed at real-time computer vision. Originally developed by Intel, it was later supported by Willow Garage then Itseez (which was later acquired by Intel). The library is cross-platform and free for use under the open-source BSD license.\n",
    "\n",
    "OpenCV supports the deep learning frameworks TensorFlow, Torch/PyTorch, and Caffe.\n",
    "\n",
    "OpenCV is written in C++ and its primary interface is in C++. It has a C interface, and it also has interfaces for Python, Java, and MATLAB/Octave.\n",
    "\n",
    "In this course, we will get started with OpenCV including these parts:\n",
    "\n",
    "- Basic concepts, including the BGR color space, image channels, and image types;\n",
    "- Reading, displaying, and saving images;\n",
    "- Video capture and processing;\n",
    "- Drawing shapes and text on images;\n",
    "- Image transformations, including scaling, rotating, and flipping;\n",
    "- Image arithmetic, including addition, subtraction, and bitwise operations;\n",
    "- Image thresholding;\n",
    "- etc.\n",
    "\n",
    "In Python, OpenCV requires numpy as a dependency. So, we need to install numpy first."
   ],
   "id": "9a4e568de7982cdb"
  },
  {
   "metadata": {},
   "cell_type": "code",
   "outputs": [],
   "execution_count": null,
   "source": [
    "!pip install numpy opencv-python\n",
    "# If you want to enable full OpenCV features, you can install opencv-contrib-python instead of opencv-python.\n",
    "# !pip install numpy opencv-contrib-python"
   ],
   "id": "c4018dc403744445"
  },
  {
   "metadata": {},
   "cell_type": "markdown",
   "source": [
    "## Basic Concepts\n",
    "\n",
    "For default, OpenCV uses the BGR color space. The BGR color space is the reverse of the RGB color space. In the RGB color space, the color channels are red, green, and blue. In the BGR color space, the color channels are blue, green, and red.\n",
    "\n",
    "The BGR color space is similar to the RGB color space. The only difference is the order of the color channels. The BGR color space is used in OpenCV because it was popular when OpenCV was first developed.\n",
    "\n",
    "![RGB Color Space](https://en.wikipedia.org/wiki/File:Venn_diagram_rgb.svg)\n",
    "\n",
    "The BGR color space is used in OpenCV because it was popular when OpenCV was first developed.\n",
    "\n",
    "The HSV color space is another popular color space. The HSV color space is used in many image processing applications. The HSV color space is more intuitive than the BGR color space. The HSV color space is used in many image processing applications.\n",
    "\n",
    "![HSV Color Space](https://upload.wikimedia.org/wikipedia/commons/thumb/a/a0/Hsl-hsv_models.svg/580px-Hsl-hsv_models.svg.png)"
   ],
   "id": "bb505ec1c0c1fad"
  }
 ],
 "metadata": {
  "kernelspec": {
   "display_name": "Python 3",
   "language": "python",
   "name": "python3"
  },
  "language_info": {
   "codemirror_mode": {
    "name": "ipython",
    "version": 2
   },
   "file_extension": ".py",
   "mimetype": "text/x-python",
   "name": "python",
   "nbconvert_exporter": "python",
   "pygments_lexer": "ipython2",
   "version": "2.7.6"
  }
 },
 "nbformat": 4,
 "nbformat_minor": 5
}
